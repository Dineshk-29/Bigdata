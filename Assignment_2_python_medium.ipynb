{
  "nbformat": 4,
  "nbformat_minor": 0,
  "metadata": {
    "colab": {
      "provenance": [],
      "authorship_tag": "ABX9TyMMG7kcivmDZF27S5Il2uVX",
      "include_colab_link": true
    },
    "kernelspec": {
      "name": "python3",
      "display_name": "Python 3"
    },
    "language_info": {
      "name": "python"
    }
  },
  "cells": [
    {
      "cell_type": "markdown",
      "metadata": {
        "id": "view-in-github",
        "colab_type": "text"
      },
      "source": [
        "<a href=\"https://colab.research.google.com/github/Dineshk-29/Bigdata/blob/main/Assignment_2_python_medium.ipynb\" target=\"_parent\"><img src=\"https://colab.research.google.com/assets/colab-badge.svg\" alt=\"Open In Colab\"/></a>"
      ]
    },
    {
      "cell_type": "markdown",
      "source": [
        "Problem Statement 1:\n"
      ],
      "metadata": {
        "id": "dQFi--pM2G2c"
      }
    },
    {
      "cell_type": "code",
      "execution_count": 1,
      "metadata": {
        "colab": {
          "base_uri": "https://localhost:8080/"
        },
        "id": "boYQPUfH10yI",
        "outputId": "b01ac800-b922-4753-9195-b6484eed27d1"
      },
      "outputs": [
        {
          "output_type": "stream",
          "name": "stdout",
          "text": [
            "[1, 2, 3, 4, 5]\n"
          ]
        }
      ],
      "source": [
        "l=[1,1,1,1,2,2,3,3,3,3,4,5]\n",
        "a=[]\n",
        "for i in l:\n",
        "    if i not in a:\n",
        "        a.append(i)\n",
        "print(a)\n"
      ]
    },
    {
      "cell_type": "markdown",
      "source": [
        "Problem Statement 2:\n"
      ],
      "metadata": {
        "id": "GI43uw3K2N7S"
      }
    },
    {
      "cell_type": "code",
      "source": [
        "l=[1,2,3,4,[4,5]]\n",
        "a=eval(input(\"Enter the number: \"))\n",
        "if a in l[4] :\n",
        "    print(\"The given number is present in the inner list\")\n",
        "else:\n",
        "    print(\"The given number  is not present in the inner list\")\n"
      ],
      "metadata": {
        "colab": {
          "base_uri": "https://localhost:8080/"
        },
        "id": "UIbsUmV32NjT",
        "outputId": "02056f89-1047-46f6-c77b-7eda4924aa77"
      },
      "execution_count": 2,
      "outputs": [
        {
          "output_type": "stream",
          "name": "stdout",
          "text": [
            "Enter the number: 5\n",
            "The given number is present in the inner list\n"
          ]
        }
      ]
    },
    {
      "cell_type": "code",
      "source": [],
      "metadata": {
        "id": "CKcTHTQD2VIL"
      },
      "execution_count": null,
      "outputs": []
    }
  ]
}