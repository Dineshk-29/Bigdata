{
  "nbformat": 4,
  "nbformat_minor": 0,
  "metadata": {
    "colab": {
      "provenance": [],
      "authorship_tag": "ABX9TyOoNIx3/ycGSfjw2GvU3MvN",
      "include_colab_link": true
    },
    "kernelspec": {
      "name": "python3",
      "display_name": "Python 3"
    },
    "language_info": {
      "name": "python"
    }
  },
  "cells": [
    {
      "cell_type": "markdown",
      "metadata": {
        "id": "view-in-github",
        "colab_type": "text"
      },
      "source": [
        "<a href=\"https://colab.research.google.com/github/Dineshk-29/Bigdata/blob/main/Assignment_2_python_Hard.ipynb\" target=\"_parent\"><img src=\"https://colab.research.google.com/assets/colab-badge.svg\" alt=\"Open In Colab\"/></a>"
      ]
    },
    {
      "cell_type": "markdown",
      "source": [
        "Problem Statement 1:"
      ],
      "metadata": {
        "id": "_ilROdk62vyC"
      }
    },
    {
      "cell_type": "code",
      "execution_count": 1,
      "metadata": {
        "colab": {
          "base_uri": "https://localhost:8080/"
        },
        "id": "BY8dPDKr2ngi",
        "outputId": "9d43e0f7-4a77-4b6f-ed11-21495f3ac512"
      },
      "outputs": [
        {
          "output_type": "stream",
          "name": "stdout",
          "text": [
            "[1, 2, 3, 5, 1, 2, 1]\n"
          ]
        }
      ],
      "source": [
        "numbers_nested=[[1,-1,2],[0,-5,3,5,-2],[1,2,1,0,-2,-3]]\n",
        "numbers=[]\n",
        "for i in numbers_nested:\n",
        "    for j in i:\n",
        "        if j>=1:\n",
        "            numbers.append(j)\n",
        "print(numbers)\n"
      ]
    },
    {
      "cell_type": "markdown",
      "source": [
        "Problem Statement 2:\n"
      ],
      "metadata": {
        "id": "jLTfzM__3COh"
      }
    },
    {
      "cell_type": "code",
      "source": [
        "l = [[1, 2, 3], [4, 5, 6, 3], [-1, -2, -10, 5, 8]]\n",
        "\n",
        "result = 0\n",
        "for value1 in l:\n",
        "    positive_value = 0\n",
        "    negative_value = 0\n",
        "\n",
        "    for value2 in value1:\n",
        "        if j >= 1:\n",
        "            positive_value = positive_value + value2\n",
        "        else:\n",
        "            negative_value = negative_value + value2\n",
        "    result = result + (positive_value + negative_value) / len(value1)\n",
        "\n",
        "print(\"The average sum of value from each inner list and the sum of  each average is : \",result)\n"
      ],
      "metadata": {
        "colab": {
          "base_uri": "https://localhost:8080/"
        },
        "id": "3IrALt1B26p0",
        "outputId": "babd4e03-256d-4631-8d74-0dd0c7e1067c"
      },
      "execution_count": 2,
      "outputs": [
        {
          "output_type": "stream",
          "name": "stdout",
          "text": [
            "The average sum of value from each inner list and the sum of  each average is :  6.5\n"
          ]
        }
      ]
    },
    {
      "cell_type": "code",
      "source": [],
      "metadata": {
        "id": "rnmzH7nP51ah"
      },
      "execution_count": null,
      "outputs": []
    }
  ]
}