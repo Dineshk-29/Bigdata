{
  "nbformat": 4,
  "nbformat_minor": 0,
  "metadata": {
    "colab": {
      "provenance": [],
      "authorship_tag": "ABX9TyOU5JC/rsp7ok9FHlE+/tcO",
      "include_colab_link": true
    },
    "kernelspec": {
      "name": "python3",
      "display_name": "Python 3"
    },
    "language_info": {
      "name": "python"
    }
  },
  "cells": [
    {
      "cell_type": "markdown",
      "metadata": {
        "id": "view-in-github",
        "colab_type": "text"
      },
      "source": [
        "<a href=\"https://colab.research.google.com/github/Dineshk-29/Bigdata/blob/main/Assignment-2_python_Easy.ipynb\" target=\"_parent\"><img src=\"https://colab.research.google.com/assets/colab-badge.svg\" alt=\"Open In Colab\"/></a>"
      ]
    },
    {
      "cell_type": "markdown",
      "source": [
        "Problem statement 1:\n"
      ],
      "metadata": {
        "id": "mf9KPdnT1CVM"
      }
    },
    {
      "cell_type": "code",
      "execution_count": 1,
      "metadata": {
        "colab": {
          "base_uri": "https://localhost:8080/"
        },
        "id": "D5ydzZh-0Ls3",
        "outputId": "9763175a-dc20-4b10-9549-9c1a9e1ac598"
      },
      "outputs": [
        {
          "output_type": "stream",
          "name": "stdout",
          "text": [
            "['phone.jpg', 'views.jpg', 'bear.jpg']\n"
          ]
        }
      ],
      "source": [
        "filenames=['views.jpg','bear.jpg','ball.png']\n",
        "filenames.insert(0,'phone.jpg')\n",
        "filenames.remove('ball.png')\n",
        "print(filenames)\n"
      ]
    },
    {
      "cell_type": "markdown",
      "source": [
        "Problem statement 2:"
      ],
      "metadata": {
        "id": "jCke41s81HRG"
      }
    },
    {
      "cell_type": "code",
      "source": [
        "l1=[1,2,3,4,5,6,7,8,9,10]\n",
        "l1.sort()\n",
        "max_value=l1[-1]\n",
        "min_value=l1[0]\n",
        "average_value=sum(l1)/len(l1)\n",
        "\n",
        "print(\"The maximum value is:\",max_value)\n",
        "print(\"The minimum value is:\",min_value)\n",
        "print(\"The average value is:\",average_value)\n"
      ],
      "metadata": {
        "colab": {
          "base_uri": "https://localhost:8080/"
        },
        "id": "x82CM1gl1JaO",
        "outputId": "054285a1-703d-4ee4-b7a7-b33176167321"
      },
      "execution_count": 2,
      "outputs": [
        {
          "output_type": "stream",
          "name": "stdout",
          "text": [
            "The maximum value is: 10\n",
            "The minimum value is: 1\n",
            "The average value is: 5.5\n"
          ]
        }
      ]
    },
    {
      "cell_type": "code",
      "source": [],
      "metadata": {
        "id": "95XilCbP1Mek"
      },
      "execution_count": null,
      "outputs": []
    }
  ]
}