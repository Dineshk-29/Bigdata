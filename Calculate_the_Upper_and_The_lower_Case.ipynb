{
  "nbformat": 4,
  "nbformat_minor": 0,
  "metadata": {
    "colab": {
      "provenance": [],
      "authorship_tag": "ABX9TyPuizCR8I9s6MLvxZbMSfQ6",
      "include_colab_link": true
    },
    "kernelspec": {
      "name": "python3",
      "display_name": "Python 3"
    },
    "language_info": {
      "name": "python"
    }
  },
  "cells": [
    {
      "cell_type": "markdown",
      "metadata": {
        "id": "view-in-github",
        "colab_type": "text"
      },
      "source": [
        "<a href=\"https://colab.research.google.com/github/Dineshk-29/Bigdata/blob/main/Calculate_the_Upper_and_The_lower_Case.ipynb\" target=\"_parent\"><img src=\"https://colab.research.google.com/assets/colab-badge.svg\" alt=\"Open In Colab\"/></a>"
      ]
    },
    {
      "cell_type": "code",
      "execution_count": 1,
      "metadata": {
        "colab": {
          "base_uri": "https://localhost:8080/"
        },
        "id": "iWKPHCm7DA_O",
        "outputId": "5662e05b-db54-487c-8f0e-cd9f683208d3"
      },
      "outputs": [
        {
          "output_type": "stream",
          "name": "stdout",
          "text": [
            "No. of Upper case characters : 3\n",
            "No. of Lower case Characters : 12\n"
          ]
        }
      ],
      "source": [
        "string_value='The quick Brow Fox'\n",
        "\n",
        "\n",
        "def str_validation(string):\n",
        "    lower=0\n",
        "    upper=0\n",
        "    for i in string_value.strip():\n",
        "        if i.isupper():\n",
        "            upper=upper+1\n",
        "        elif i.islower():\n",
        "            lower=lower+1\n",
        "    print(\"No. of Upper case characters :\",upper)\n",
        "    print(\"No. of Lower case Characters :\",lower)\n",
        "str_validation(string_value)"
      ]
    },
    {
      "cell_type": "code",
      "source": [],
      "metadata": {
        "id": "kZgV5WtcDFSV"
      },
      "execution_count": null,
      "outputs": []
    }
  ]
}